{
 "cells": [
  {
   "cell_type": "code",
   "execution_count": 10,
   "metadata": {},
   "outputs": [],
   "source": [
    "\n",
    "from __future__ import absolute_import\n",
    "from __future__ import division\n",
    "from __future__ import print_function\n",
    "import tensorflow as tf\n",
    "tf.compat.v1.enable_eager_execution()\n",
    "\n",
    "import sys\n",
    "import os\n",
    "\n",
    "import warnings\n",
    "\n",
    "from tensorflow import keras\n",
    "import numpy as np\n",
    "from tensorflow.data import Dataset\n",
    "from image import *\n",
    "import tensorflow.image\n",
    "\n",
    "import numpy as np\n",
    "import json\n",
    "import cv2\n",
    "import time\n",
    "\n",
    "\n",
    "def load_data_list():\n",
    "    '''\n",
    "    objective: load lists of data files\n",
    "    return: lists\n",
    "    '''\n",
    "    train_list = []\n",
    "    with open('train_data_list.txt', 'r') as f:\n",
    "        for line in f:\n",
    "            inner_list = ['../'+ elt.strip() for elt in line.split(',')]\n",
    "            train_list.append(inner_list)\n",
    "    train_list = [val.replace('\\'','') for val in train_list[0]]\n",
    "\n",
    "    test_list = []\n",
    "    with open('test_data_list.txt', 'r') as f:\n",
    "        for line in f:\n",
    "            inner_list = ['../'+ elt.strip() for elt in line.split(',')]\n",
    "            test_list.append(inner_list)\n",
    "    test_list = [val.replace('\\'','') for val in test_list[0]]\n",
    "\n",
    "    return train_list, test_list\n",
    "\n",
    "\n",
    "\n",
    "def load_data(paths, train = True):\n",
    "    '''\n",
    "    objective: load image files\n",
    "    param: paths to each image files\n",
    "    return: image files of input image and ground-truth image\n",
    "    '''\n",
    "    for img_path in paths:\n",
    "        gt_path = img_path.decode(\"utf-8\").replace('.jpg','.h5').replace('images','ground-truth')\n",
    "        img = tf.io.read_file(img_path)\n",
    "        img = tf.image.decode_jpeg(img, channels = 3)\n",
    "        img = tf.cast(img, tf.float32)\n",
    "        img = (img/127.5) - 1 # normalizing the images to [-1, 1]\n",
    "\n",
    "        gt_file = h5py.File(gt_path, 'r')\n",
    "        target = np.asarray(gt_file['density'])\n",
    "\n",
    "        target = cv2.resize(target,(int(target.shape[1]/8),int(target.shape[0]/8)),interpolation = cv2.INTER_CUBIC)*64\n",
    "\n",
    "        yield (img, target)\n",
    "\n",
    "\n",
    "def load_datasets():\n",
    "    '''\n",
    "    objective: load datasets from lists of paths and apply load function\n",
    "    return: train_dataset, test_dataset - tf.data.Dataset\n",
    "    '''\n",
    "    train_list, test_list = load_data_list()\n",
    "\n",
    "    # load dataset from generator defined as load_data\n",
    "    train_dataset = tf.data.Dataset.from_generator(\n",
    "        load_data, args = [train_list],output_types = (tf.float32, tf.float32), output_shapes = ((None,None,3), (None,None)))\n",
    "    train_dataset = train_dataset.shuffle(100000)\n",
    "\n",
    "    test_dataset = tf.data.Dataset.from_generator(\n",
    "        load_data, args = [test_list], output_types = (tf.float32, tf.float32), output_shapes = ((None,None,3), (None,None)))\n",
    "    return train_dataset, test_dataset\n",
    "\n",
    "def loss_fn(model, input_image, gt_image):\n",
    "    '''\n",
    "    objective: calculate loss from input image and ground-truth\n",
    "    return: loss \n",
    "    '''\n",
    "    output = model(np.expand_dims(input_image,0), training=True)\n",
    "    output = tf.squeeze(output, [0,3])\n",
    "    # mean squared error\n",
    "    loss = tf.reduce_mean(tf.square(output - gt_image))\n",
    "    return loss\n",
    "\n",
    "def grad(model, input_image, gt_image):\n",
    "    '''\n",
    "    objective: apply gradient descent method to update model's weights\n",
    "    '''\n",
    "    with tf.GradientTape() as tape:\n",
    "        loss = loss_fn(model, input_image, gt_image)\n",
    "    return tape.gradient(loss, model.trainable_weights)\n"
   ]
  },
  {
   "cell_type": "code",
   "execution_count": 11,
   "metadata": {},
   "outputs": [],
   "source": [
    "train_ds, test_ds = load_datasets()"
   ]
  },
  {
   "cell_type": "code",
   "execution_count": 12,
   "metadata": {},
   "outputs": [
    {
     "name": "stdout",
     "output_type": "stream",
     "text": [
      "(768, 1024, 3)\n",
      "(96, 128)\n",
      "=======\n",
      "(688, 1024, 3)\n",
      "(86, 128)\n",
      "=======\n",
      "(768, 1024, 3)\n",
      "(96, 128)\n",
      "=======\n",
      "(768, 1024, 3)\n",
      "(96, 128)\n",
      "=======\n",
      "(681, 1024, 3)\n",
      "(85, 128)\n",
      "=======\n",
      "(800, 600, 3)\n",
      "(100, 75)\n",
      "=======\n",
      "(768, 1024, 3)\n",
      "(96, 128)\n",
      "=======\n",
      "(620, 620, 3)\n",
      "(77, 77)\n",
      "=======\n",
      "(768, 1024, 3)\n",
      "(96, 128)\n",
      "=======\n",
      "(768, 1024, 3)\n",
      "(96, 128)\n",
      "=======\n"
     ]
    }
   ],
   "source": [
    "for i, v in train_ds.take(10):\n",
    "    print(i.shape)\n",
    "    print(v.shape)\n",
    "    print(\"=======\")"
   ]
  },
  {
   "cell_type": "code",
   "execution_count": 18,
   "metadata": {},
   "outputs": [],
   "source": [
    "mod = keras.layers.Conv2D(filters=512, kernel_size=3, activation=tf.nn.relu, padding='SAME',dilation_rate=2)"
   ]
  },
  {
   "cell_type": "code",
   "execution_count": 19,
   "metadata": {},
   "outputs": [
    {
     "name": "stdout",
     "output_type": "stream",
     "text": [
      "(768, 1024, 3)\n",
      "(1, 764, 1020, 512)\n",
      "(96, 128)\n",
      "=======\n"
     ]
    }
   ],
   "source": [
    "for i, v in train_ds.take(1):\n",
    "    print(i.shape)\n",
    "    print(mod(np.expand_dims(i,0)).shape)\n",
    "    print(v.shape)\n",
    "    print(\"=======\")"
   ]
  },
  {
   "cell_type": "code",
   "execution_count": null,
   "metadata": {},
   "outputs": [],
   "source": []
  }
 ],
 "metadata": {
  "kernelspec": {
   "display_name": "Python 3",
   "language": "python",
   "name": "python3"
  },
  "language_info": {
   "codemirror_mode": {
    "name": "ipython",
    "version": 3
   },
   "file_extension": ".py",
   "mimetype": "text/x-python",
   "name": "python",
   "nbconvert_exporter": "python",
   "pygments_lexer": "ipython3",
   "version": "3.6.8"
  }
 },
 "nbformat": 4,
 "nbformat_minor": 2
}
