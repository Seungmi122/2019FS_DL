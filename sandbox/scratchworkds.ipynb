{
 "cells": [
  {
   "cell_type": "code",
   "execution_count": 2,
   "metadata": {},
   "outputs": [],
   "source": [
    "\n",
    "from __future__ import absolute_import\n",
    "from __future__ import division\n",
    "from __future__ import print_function\n",
    "import tensorflow as tf\n",
    "tf.compat.v1.enable_eager_execution()\n",
    "\n",
    "import sys\n",
    "import os\n",
    "\n",
    "import warnings\n",
    "\n",
    "from tensorflow import keras\n",
    "import numpy as np\n",
    "from tensorflow.data import Dataset\n",
    "from image import *\n",
    "import tensorflow.image\n",
    "\n",
    "import numpy as np\n",
    "import json\n",
    "import cv2\n",
    "import time\n",
    "\n"
   ]
  },
  {
   "cell_type": "code",
   "execution_count": 12,
   "metadata": {},
   "outputs": [],
   "source": [
    "\n",
    "def load_data_list():\n",
    "    '''\n",
    "    objective: load lists of data files\n",
    "    return: lists\n",
    "    '''\n",
    "    train_a_list = []\n",
    "    with open('train_a_list.txt', 'r') as f:\n",
    "        for line in f:\n",
    "            inner_list = ['../'+elt.strip() for elt in line.split(',')]\n",
    "            train_a_list.append(inner_list)\n",
    "    train_a_list = [val.replace('\\'','') for val in train_a_list[0]]\n",
    "\n",
    "    test_a_list = []\n",
    "    with open('test_a_list.txt', 'r') as f:\n",
    "        for line in f:\n",
    "            inner_list = ['../'+elt.strip() for elt in line.split(',')]\n",
    "            test_a_list.append(inner_list)\n",
    "    test_a_list = [val.replace('\\'','') for val in test_a_list[0]]\n",
    "\n",
    "    train_b_list = []\n",
    "    with open('train_b_list.txt', 'r') as f:\n",
    "        for line in f:\n",
    "            inner_list = ['../'+elt.strip() for elt in line.split(',')]\n",
    "            train_b_list.append(inner_list)\n",
    "    train_b_list = [val.replace('\\'','') for val in train_b_list[0]]\n",
    "\n",
    "    test_b_list = []\n",
    "    with open('test_b_list.txt', 'r') as f:\n",
    "        for line in f:\n",
    "            inner_list = ['../'+elt.strip() for elt in line.split(',')]\n",
    "            test_b_list.append(inner_list)\n",
    "    test_b_list = [val.replace('\\'','') for val in test_b_list[0]]\n",
    "\n",
    "\n",
    "    return train_a_list, test_a_list, train_b_list, test_b_list\n",
    "\n",
    "\n"
   ]
  },
  {
   "cell_type": "code",
   "execution_count": 13,
   "metadata": {},
   "outputs": [],
   "source": [
    "def load_data(paths, train = True):\n",
    "    '''\n",
    "    objective: load image files\n",
    "    param: paths to each image files\n",
    "    return: image files of input image and ground-truth image\n",
    "    '''\n",
    "    for img_path in paths:\n",
    "        gt_path = img_path.decode(\"utf-8\").replace('.jpg','.h5').replace('images','ground-truth')\n",
    "        img = tf.io.read_file(img_path)\n",
    "        img = tf.image.decode_jpeg(img, channels = 3)\n",
    "        img = tf.cast(img, tf.float32)\n",
    "        img = (img/127.5) - 1 # normalizing the images to [-1, 1]\n",
    "\n",
    "        # another option\n",
    "    \t# img = img/255.0\n",
    "\t    # img[:,:,0]=(img[:,:,0]-0.485)/0.229\n",
    "\t    # img[:,:,1]=(img[:,:,1]-0.456)/0.224\n",
    "\t    # img[:,:,2]=(img[:,:,2]-0.406)/0.225\n",
    "\n",
    "        gt_file = h5py.File(gt_path, 'r')\n",
    "        target = np.asarray(gt_file['density'])\n",
    "\n",
    "        target = cv2.resize(target,(int(target.shape[1]/8),int(target.shape[0]/8)),interpolation = cv2.INTER_CUBIC)*64\n",
    "\n",
    "\n",
    "        yield (img, target)\n",
    "\n",
    "\n",
    "def load_datasets():\n",
    "\t'''\n",
    "\tobjective: load datasets from lists of paths and apply load function\n",
    "\treturn: train_dataset, test_dataset - tf.data.Dataset\n",
    "\t'''\n",
    "\ttrain_a_list, test_a_list, train_b_list, test_b_list = load_data_list()\n",
    "\n",
    "\t# part_A\n",
    "\t# load dataset from generator defined as load_data\n",
    "\ttrain_a_dataset = tf.data.Dataset.from_generator(\n",
    "\t\tload_data, args = [train_a_list],output_types = (tf.float32, tf.float32), output_shapes = ((None,None,3), (None,None)))\n",
    "\ttrain_a_dataset = train_a_dataset.shuffle(100000)\n",
    "\n",
    "\ttest_a_dataset = tf.data.Dataset.from_generator(\n",
    "\t\tload_data, args = [test_a_list], output_types = (tf.float32, tf.float32), output_shapes = ((None,None,3), (None,None)))\n",
    "\t\n",
    "\t# part_B\n",
    "\ttrain_b_dataset = tf.data.Dataset.from_generator(\n",
    "\t\tload_data, args = [train_b_list],output_types = (tf.float32, tf.float32), output_shapes = ((None,None,3), (None,None)))\n",
    "\ttrain_b_dataset = train_b_dataset.shuffle(100000)\n",
    "\n",
    "\ttest_b_dataset = tf.data.Dataset.from_generator(\n",
    "\t\tload_data, args = [test_b_list], output_types = (tf.float32, tf.float32), output_shapes = ((None,None,3), (None,None)))\n",
    "\t\n",
    "\n",
    "\treturn train_a_dataset, test_a_dataset, train_b_dataset, test_b_dataset"
   ]
  },
  {
   "cell_type": "code",
   "execution_count": 14,
   "metadata": {},
   "outputs": [],
   "source": [
    "train_a_dataset, test_a_dataset, train_b_dataset, test_b_dataset = load_datasets()"
   ]
  },
  {
   "cell_type": "code",
   "execution_count": 41,
   "metadata": {},
   "outputs": [],
   "source": [
    "train_a_gt = []\n",
    "for i, val in train_a_dataset:\n",
    "    train_a_gt.append(int(np.sum(val)))"
   ]
  },
  {
   "cell_type": "code",
   "execution_count": 42,
   "metadata": {},
   "outputs": [],
   "source": [
    "test_a_gt = []\n",
    "for i, val in test_a_dataset:\n",
    "    test_a_gt.append(int(np.sum(val)))"
   ]
  },
  {
   "cell_type": "code",
   "execution_count": 43,
   "metadata": {},
   "outputs": [],
   "source": [
    "train_b_gt = []\n",
    "for i, val in train_b_dataset:\n",
    "    train_b_gt.append(int(np.sum(val)))"
   ]
  },
  {
   "cell_type": "code",
   "execution_count": 44,
   "metadata": {},
   "outputs": [],
   "source": [
    "test_b_gt = []\n",
    "for i, val in test_b_dataset:\n",
    "    test_b_gt.append(int(np.sum(val)))"
   ]
  },
  {
   "cell_type": "code",
   "execution_count": 45,
   "metadata": {},
   "outputs": [],
   "source": [
    "part_a_gt = train_a_gt+test_a_gt"
   ]
  },
  {
   "cell_type": "code",
   "execution_count": 46,
   "metadata": {},
   "outputs": [],
   "source": [
    "part_b_gt = train_b_gt+test_b_gt"
   ]
  },
  {
   "cell_type": "code",
   "execution_count": 53,
   "metadata": {},
   "outputs": [
    {
     "data": {
      "image/png": "[encoded data removed]",
      "text/plain": [
       "<Figure size 432x288 with 1 Axes>"
      ]
     },
     "metadata": {
      "needs_background": "light"
     },
     "output_type": "display_data"
    }
   ],
   "source": [
    "import numpy as np\n",
    "import random\n",
    "from matplotlib import pyplot as plt\n",
    "\n",
    "bins = np.arange(0, 3000, 100) \n",
    "\n",
    "plt.xlim([min(part_a_gt), max(part_a_gt)+100])\n",
    "\n",
    "plt.hist(part_a_gt,bins = bins, alpha=0.5)\n",
    "plt.title('Part A Population')\n",
    "plt.xlabel('Number of people in image')\n",
    "plt.ylabel('count')\n",
    "\n",
    "plt.show()"
   ]
  },
  {
   "cell_type": "code",
   "execution_count": 52,
   "metadata": {},
   "outputs": [
    {
     "data": {
      "image/png": "[encoded data removed]",
      "text/plain": [
       "<Figure size 432x288 with 1 Axes>"
      ]
     },
     "metadata": {
      "needs_background": "light"
     },
     "output_type": "display_data"
    }
   ],
   "source": [
    "\n",
    "bins = np.arange(0, 3000, 100) \n",
    "\n",
    "plt.xlim([min(part_a_gt), max(part_a_gt)+100])\n",
    "\n",
    "plt.hist(part_b_gt,bins = bins, alpha=0.5)\n",
    "plt.title('Part B Population')\n",
    "plt.xlabel('Number of people in image')\n",
    "plt.ylabel('count')\n",
    "\n",
    "plt.show()"
   ]
  },
  {
   "cell_type": "code",
   "execution_count": null,
   "metadata": {},
   "outputs": [],
   "source": []
  }
 ],
 "metadata": {
  "kernelspec": {
   "display_name": "Python 3",
   "language": "python",
   "name": "python3"
  },
  "language_info": {
   "codemirror_mode": {
    "name": "ipython",
    "version": 3
   },
   "file_extension": ".py",
   "mimetype": "text/x-python",
   "name": "python",
   "nbconvert_exporter": "python",
   "pygments_lexer": "ipython3",
   "version": "3.6.8"
  }
 },
 "nbformat": 4,
 "nbformat_minor": 2
}
