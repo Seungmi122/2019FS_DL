{
 "cells": [
  {
   "cell_type": "markdown",
   "metadata": {},
   "source": [
    "# Import Libraries"
   ]
  },
  {
   "cell_type": "code",
   "execution_count": 6,
   "metadata": {
    "scrolled": true
   },
   "outputs": [],
   "source": [
    "import tensorflow as tf\n",
    "from tensorflow import keras\n",
    "from matplotlib import cm as c\n",
    "\n",
    "from utils.val import *\n",
    "from engine.train import *"
   ]
  },
  {
   "cell_type": "code",
   "execution_count": 2,
   "metadata": {},
   "outputs": [],
   "source": [
    "from __future__ import absolute_import\n",
    "from __future__ import division\n",
    "from __future__ import print_function\n",
    "\n",
    "\n",
    "tf.enable_eager_execution() "
   ]
  },
  {
   "cell_type": "markdown",
   "metadata": {},
   "source": [
    "# Define/Import your own model"
   ]
  },
  {
   "cell_type": "code",
   "execution_count": 1,
   "metadata": {},
   "outputs": [
    {
     "name": "stderr",
     "output_type": "stream",
     "text": [
      "Using TensorFlow backend.\n",
      "/Users/yeojin/anaconda3/envs/yjenv/lib/python3.6/site-packages/tensorflow/python/framework/dtypes.py:526: FutureWarning: Passing (type, 1) or '1type' as a synonym of type is deprecated; in a future version of numpy, it will be understood as (type, (1,)) / '(1,)type'.\n",
      "  _np_qint8 = np.dtype([(\"qint8\", np.int8, 1)])\n",
      "/Users/yeojin/anaconda3/envs/yjenv/lib/python3.6/site-packages/tensorflow/python/framework/dtypes.py:527: FutureWarning: Passing (type, 1) or '1type' as a synonym of type is deprecated; in a future version of numpy, it will be understood as (type, (1,)) / '(1,)type'.\n",
      "  _np_quint8 = np.dtype([(\"quint8\", np.uint8, 1)])\n",
      "/Users/yeojin/anaconda3/envs/yjenv/lib/python3.6/site-packages/tensorflow/python/framework/dtypes.py:528: FutureWarning: Passing (type, 1) or '1type' as a synonym of type is deprecated; in a future version of numpy, it will be understood as (type, (1,)) / '(1,)type'.\n",
      "  _np_qint16 = np.dtype([(\"qint16\", np.int16, 1)])\n",
      "/Users/yeojin/anaconda3/envs/yjenv/lib/python3.6/site-packages/tensorflow/python/framework/dtypes.py:529: FutureWarning: Passing (type, 1) or '1type' as a synonym of type is deprecated; in a future version of numpy, it will be understood as (type, (1,)) / '(1,)type'.\n",
      "  _np_quint16 = np.dtype([(\"quint16\", np.uint16, 1)])\n",
      "/Users/yeojin/anaconda3/envs/yjenv/lib/python3.6/site-packages/tensorflow/python/framework/dtypes.py:530: FutureWarning: Passing (type, 1) or '1type' as a synonym of type is deprecated; in a future version of numpy, it will be understood as (type, (1,)) / '(1,)type'.\n",
      "  _np_qint32 = np.dtype([(\"qint32\", np.int32, 1)])\n",
      "/Users/yeojin/anaconda3/envs/yjenv/lib/python3.6/site-packages/tensorflow/python/framework/dtypes.py:535: FutureWarning: Passing (type, 1) or '1type' as a synonym of type is deprecated; in a future version of numpy, it will be understood as (type, (1,)) / '(1,)type'.\n",
      "  np_resource = np.dtype([(\"resource\", np.ubyte, 1)])\n"
     ]
    }
   ],
   "source": [
    "from keras.models import Model\n",
    "from keras.layers import Conv2D, MaxPooling2D\n",
    "from keras.layers import Input, Dropout, Concatenate"
   ]
  },
  {
   "cell_type": "code",
   "execution_count": 2,
   "metadata": {},
   "outputs": [],
   "source": [
    "#################### edit this part ######################\n",
    "#use Keras Model instead of Sequential\n",
    "#in case you need to import MCNN model in another file\n",
    "\n",
    "def MCNN(input_shape=None):\n",
    "    inputs=Input(shape=input_shape)\n",
    "    \n",
    "    # column 1\n",
    "    #column_1 = Conv2D(filters, kernel_size, padding, activation, name)(inputs)\n",
    "    column_1 = Conv2D(16, (9, 9), padding='same', activation='relu', name='col1_conv1')(inputs)\n",
    "    column_1 = MaxPooling2D(2)(column_1)\n",
    "    column_1 = Conv2D(32, (7, 7), padding='same', activation='relu', name='col1_conv2')(column_1)\n",
    "    column_1 = MaxPooling2D(2)(column_1)\n",
    "    column_1 = Conv2D(16, (7, 7), padding='same', activation='relu', name='col1_conv3')(column_1)\n",
    "    column_1 = Conv2D(8, (7, 7), padding='same', activation='relu', name='col1_conv4')(column_1)\n",
    "\n",
    "    # column 2\n",
    "    column_2 = Conv2D(20, (7, 7), padding='same', activation='relu', name='col2_conv1')(inputs)\n",
    "    column_2 = MaxPooling2D(2)(column_2)\n",
    "    column_2 = Conv2D(40, (5, 5), padding='same', activation='relu', name='col2_conv2')(column_2)\n",
    "    column_2 = MaxPooling2D(2)(column_2)\n",
    "    column_2 = Conv2D(20, (5, 5), padding='same', activation='relu', name='col2_conv3')(column_2)\n",
    "    column_2 = Conv2D(10, (5, 5), padding='same', activation='relu', name='col2_conv4')(column_2)\n",
    "\n",
    "    # column 3\n",
    "    column_3 = Conv2D(24, (5, 5), padding='same', activation='relu', name='col3_conv1')(inputs)\n",
    "    column_3 = MaxPooling2D(2)(column_3)\n",
    "    column_3 = Conv2D(48, (3, 3), padding='same', activation='relu', name='col3_conv2')(column_3)\n",
    "    column_3 = MaxPooling2D(2)(column_3)\n",
    "    column_3 = Conv2D(24, (3, 3), padding='same', activation='relu', name='col3_conv3')(column_3)\n",
    "    column_3 = Conv2D(12, (3, 3), padding='same', activation='relu', name='col3_conv4')(column_3)\n",
    "\n",
    "    # merge feature map of 3 columns in last dimension\n",
    "    merges = Concatenate(axis=-1)([column_1, column_2, column_3])\n",
    "    \n",
    "    # density map\n",
    "    density_map = Conv2D(1, (1, 1), padding='same', activation='linear', name='density_conv')(merges)\n",
    "\n",
    "    model = Model(inputs=inputs, outputs=density_map)\n",
    "    return model\n",
    "    "
   ]
  },
  {
   "cell_type": "code",
   "execution_count": 3,
   "metadata": {},
   "outputs": [
    {
     "name": "stdout",
     "output_type": "stream",
     "text": [
      "WARNING:tensorflow:From /Users/yeojin/anaconda3/envs/yjenv/lib/python3.6/site-packages/tensorflow/python/ops/resource_variable_ops.py:435: colocate_with (from tensorflow.python.framework.ops) is deprecated and will be removed in a future version.\n",
      "Instructions for updating:\n",
      "Colocations handled automatically by placer.\n",
      "Model: \"model_1\"\n",
      "__________________________________________________________________________________________________\n",
      "Layer (type)                    Output Shape         Param #     Connected to                     \n",
      "==================================================================================================\n",
      "input_1 (InputLayer)            (None, None, None, 1 0                                            \n",
      "__________________________________________________________________________________________________\n",
      "col1_conv1 (Conv2D)             (None, None, None, 1 1312        input_1[0][0]                    \n",
      "__________________________________________________________________________________________________\n",
      "col2_conv1 (Conv2D)             (None, None, None, 2 1000        input_1[0][0]                    \n",
      "__________________________________________________________________________________________________\n",
      "col3_conv1 (Conv2D)             (None, None, None, 2 624         input_1[0][0]                    \n",
      "__________________________________________________________________________________________________\n",
      "max_pooling2d_1 (MaxPooling2D)  (None, None, None, 1 0           col1_conv1[0][0]                 \n",
      "__________________________________________________________________________________________________\n",
      "max_pooling2d_3 (MaxPooling2D)  (None, None, None, 2 0           col2_conv1[0][0]                 \n",
      "__________________________________________________________________________________________________\n",
      "max_pooling2d_5 (MaxPooling2D)  (None, None, None, 2 0           col3_conv1[0][0]                 \n",
      "__________________________________________________________________________________________________\n",
      "col1_conv2 (Conv2D)             (None, None, None, 3 25120       max_pooling2d_1[0][0]            \n",
      "__________________________________________________________________________________________________\n",
      "col2_conv2 (Conv2D)             (None, None, None, 4 20040       max_pooling2d_3[0][0]            \n",
      "__________________________________________________________________________________________________\n",
      "col3_conv2 (Conv2D)             (None, None, None, 4 10416       max_pooling2d_5[0][0]            \n",
      "__________________________________________________________________________________________________\n",
      "max_pooling2d_2 (MaxPooling2D)  (None, None, None, 3 0           col1_conv2[0][0]                 \n",
      "__________________________________________________________________________________________________\n",
      "max_pooling2d_4 (MaxPooling2D)  (None, None, None, 4 0           col2_conv2[0][0]                 \n",
      "__________________________________________________________________________________________________\n",
      "max_pooling2d_6 (MaxPooling2D)  (None, None, None, 4 0           col3_conv2[0][0]                 \n",
      "__________________________________________________________________________________________________\n",
      "col1_conv3 (Conv2D)             (None, None, None, 1 25104       max_pooling2d_2[0][0]            \n",
      "__________________________________________________________________________________________________\n",
      "col2_conv3 (Conv2D)             (None, None, None, 2 20020       max_pooling2d_4[0][0]            \n",
      "__________________________________________________________________________________________________\n",
      "col3_conv3 (Conv2D)             (None, None, None, 2 10392       max_pooling2d_6[0][0]            \n",
      "__________________________________________________________________________________________________\n",
      "col1_conv4 (Conv2D)             (None, None, None, 8 6280        col1_conv3[0][0]                 \n",
      "__________________________________________________________________________________________________\n",
      "col2_conv4 (Conv2D)             (None, None, None, 1 5010        col2_conv3[0][0]                 \n",
      "__________________________________________________________________________________________________\n",
      "col3_conv4 (Conv2D)             (None, None, None, 1 2604        col3_conv3[0][0]                 \n",
      "__________________________________________________________________________________________________\n",
      "concatenate_1 (Concatenate)     (None, None, None, 3 0           col1_conv4[0][0]                 \n",
      "                                                                 col2_conv4[0][0]                 \n",
      "                                                                 col3_conv4[0][0]                 \n",
      "__________________________________________________________________________________________________\n",
      "density_conv (Conv2D)           (None, None, None, 1 31          concatenate_1[0][0]              \n",
      "==================================================================================================\n",
      "Total params: 127,953\n",
      "Trainable params: 127,953\n",
      "Non-trainable params: 0\n",
      "__________________________________________________________________________________________________\n"
     ]
    }
   ],
   "source": [
    "input_shape=(None,None,1)\n",
    "model=MCNN(input_shape)\n",
    "model.summary()"
   ]
  },
  {
   "cell_type": "markdown",
   "metadata": {},
   "source": [
    "# Train model"
   ]
  },
  {
   "cell_type": "code",
   "execution_count": 5,
   "metadata": {},
   "outputs": [
    {
     "name": "stdout",
     "output_type": "stream",
     "text": [
      "WARNING:tensorflow:From /Users/seungmi/anaconda3/envs/pyDL/lib/python3.6/site-packages/tensorflow/python/data/ops/dataset_ops.py:494: py_func (from tensorflow.python.ops.script_ops) is deprecated and will be removed in a future version.\n",
      "Instructions for updating:\n",
      "tf.py_func is deprecated in TF V2. Instead, there are two\n",
      "    options available in V2.\n",
      "    - tf.py_function takes a python function which manipulates tf eager\n",
      "    tensors instead of numpy arrays. It's easy to convert a tf eager tensor to\n",
      "    an ndarray (just call tensor.numpy()) but having access to eager tensors\n",
      "    means `tf.py_function`s can use accelerators such as GPUs as well as\n",
      "    being differentiable using a gradient tape.\n",
      "    - tf.numpy_function maintains the semantics of the deprecated tf.py_func\n",
      "    (it is not differentiable, and manipulates numpy arrays). It drops the\n",
      "    stateful argument making all functions stateful.\n",
      "    \n",
      "Learning started. It takes sometime.\n",
      "Epoch: 1 loss = 160.82553101 Test MAE =  160.7493\n",
      "Learning Finished!\n"
     ]
    }
   ],
   "source": [
    "# define epochs and learning rates \n",
    "#############edit this if you want to change epochs or lr###############\n",
    "fit(model, epochs=1, learning_rate = 0.02)"
   ]
  },
  {
   "cell_type": "markdown",
   "metadata": {},
   "source": [
    "# Visualize test outputs"
   ]
  },
  {
   "cell_type": "code",
   "execution_count": null,
   "metadata": {},
   "outputs": [],
   "source": [
    "#############change test_input to check how your model works with a test data#######\n",
    "generate_images(model, test_input = 'ShanghaiTech/part_A/test_data/images/IMG_100.jpg')"
   ]
  },
  {
   "cell_type": "code",
   "execution_count": null,
   "metadata": {},
   "outputs": [],
   "source": []
  }
 ],
 "metadata": {
  "kernelspec": {
   "display_name": "Python 3",
   "language": "python",
   "name": "python3"
  },
  "language_info": {
   "codemirror_mode": {
    "name": "ipython",
    "version": 3
   },
   "file_extension": ".py",
   "mimetype": "text/x-python",
   "name": "python",
   "nbconvert_exporter": "python",
   "pygments_lexer": "ipython3",
   "version": "3.6.9"
  }
 },
 "nbformat": 4,
 "nbformat_minor": 2
}
