{
 "cells": [
  {
   "cell_type": "code",
   "execution_count": 6,
   "metadata": {},
   "outputs": [],
   "source": [
    "from __future__ import absolute_import\n",
    "from __future__ import division\n",
    "from __future__ import print_function"
   ]
  },
  {
   "cell_type": "markdown",
   "metadata": {},
   "source": [
    "# Importing Libraries"
   ]
  },
  {
   "cell_type": "code",
   "execution_count": 3,
   "metadata": {},
   "outputs": [
    {
     "name": "stdout",
     "output_type": "stream",
     "text": [
      "1.14.0\n",
      "2.2.4-tf\n"
     ]
    }
   ],
   "source": [
    "#statistics\n",
    "import tensorflow as tf\n",
    "from tensorflow import keras\n",
    "from tensorflow.keras.utils import to_categorical\n",
    "from tensorflow.keras.applications import VGG16\n",
    "\n",
    "#data structures\n",
    "import numpy as np\n",
    "\n",
    "#visualization\n",
    "import matplotlib.pyplot as plt\n",
    "\n",
    "#other\n",
    "import os\n",
    "\n",
    "print(tf.__version__) #1.14\n",
    "print(keras.__version__) #2.2.4"
   ]
  },
  {
   "cell_type": "code",
   "execution_count": 4,
   "metadata": {},
   "outputs": [],
   "source": [
    "tf.enable_eager_execution()"
   ]
  },
  {
   "cell_type": "markdown",
   "metadata": {},
   "source": [
    "# Create Model"
   ]
  },
  {
   "cell_type": "code",
   "execution_count": 67,
   "metadata": {},
   "outputs": [],
   "source": [
    "OUTPUT_CHANNELS = 1"
   ]
  },
  {
   "cell_type": "code",
   "execution_count": 88,
   "metadata": {},
   "outputs": [],
   "source": [
    "def frontend_feat(filters, size, apply_batchnorm=True):\n",
    "    '''\n",
    "    objective: create frontend parts\n",
    "    return: result - keras.Sequential\n",
    "    '''\n",
    "    initializer = tf.random_normal_initializer(0., 0.02)\n",
    "    result = keras.Sequential()\n",
    "    \n",
    "    if filters == 'M':\n",
    "        result.add(\n",
    "            keras.layers.MaxPooling2D())\n",
    "    else:\n",
    "        result.add(\n",
    "          keras.layers.Conv2D(filters, size, padding='same',\n",
    "                                 kernel_initializer=initializer, use_bias=False))\n",
    "\n",
    "        if apply_batchnorm:\n",
    "            result.add(keras.layers.BatchNormalization())\n",
    "\n",
    "        result.add(keras.layers.ReLU())\n",
    "\n",
    "    return result"
   ]
  },
  {
   "cell_type": "code",
   "execution_count": 168,
   "metadata": {},
   "outputs": [],
   "source": [
    "def backend_feat(filters, size, apply_dropout=False):\n",
    "    '''\n",
    "    objective: create backend parts\n",
    "    return: result - keras.Sequential\n",
    "    '''\n",
    "    initializer = tf.random_normal_initializer(0., 0.02)\n",
    "\n",
    "    result = keras.Sequential()\n",
    "    result.add(\n",
    "    keras.layers.Conv2DTranspose(filters, size, padding='same',\n",
    "                                    kernel_initializer=initializer,\n",
    "                                    use_bias=False))\n",
    "\n",
    "    result.add(keras.layers.BatchNormalization())\n",
    "\n",
    "    if apply_dropout:\n",
    "        result.add(keras.layers.Dropout(0.5))\n",
    "\n",
    "    result.add(keras.layers.ReLU())\n",
    "\n",
    "    return result"
   ]
  },
  {
   "cell_type": "code",
   "execution_count": 175,
   "metadata": {},
   "outputs": [],
   "source": [
    "def create_model():\n",
    "    '''\n",
    "    objective: create full model\n",
    "    return: result - keras.Model\n",
    "    '''\n",
    "    frontend_stack = [\n",
    "        frontend_feat(64, 3, apply_batchnorm= False),\n",
    "        frontend_feat(64, 3),\n",
    "        frontend_feat('M', 2),\n",
    "        frontend_feat(128, 3),\n",
    "        frontend_feat(128, 3),\n",
    "        frontend_feat('M', 2),\n",
    "        frontend_feat(256, 3),\n",
    "        frontend_feat(256, 3),\n",
    "        frontend_feat(256, 3),\n",
    "        frontend_feat('M', 2),\n",
    "        frontend_feat(512, 3),\n",
    "        frontend_feat(512, 3),\n",
    "        frontend_feat(512, 3),\n",
    "    ]    \n",
    "    backend_stack = [\n",
    "        backend_feat(512, 3),\n",
    "        backend_feat(512, 3),\n",
    "        backend_feat(512, 3),\n",
    "        backend_feat(256, 3),\n",
    "        backend_feat(128, 3),\n",
    "        backend_feat(64, 3),\n",
    "    ]\n",
    "    \n",
    "    initializer = tf.random_normal_initializer(0., 0.02)\n",
    "    ######\n",
    "    last_layer = keras.layers.Dense(OUTPUT_CHANNELS)\n",
    "    concat = keras.layers.Concatenate()\n",
    "    inputs = keras.layers.Input(shape = (None,None,3))\n",
    "    x = inputs\n",
    "    \n",
    "    skips = []\n",
    "    for front in frontend_stack:\n",
    "        x = front(x)\n",
    "        skips.append(x)\n",
    "        \n",
    "    skips = reversed(skips[:-1])\n",
    "    \n",
    "    for back, skip in zip(backend_stack, skips):\n",
    "        x = back(x)\n",
    "        x = concat([x, skip])\n",
    "        \n",
    "    x = last_layer(x)\n",
    "    \n",
    "    return keras.Model(inputs = inputs, outputs = x)"
   ]
  },
  {
   "cell_type": "markdown",
   "metadata": {},
   "source": [
    "## check if it's created well"
   ]
  },
  {
   "cell_type": "code",
   "execution_count": 176,
   "metadata": {},
   "outputs": [],
   "source": [
    "def load(image_file):\n",
    "    image = tf.io.read_file(image_file)\n",
    "    image = tf.image.decode_jpeg(image, channels = 3)\n",
    "    #image = tf.squeeze(image)\n",
    "    image = tf.image.resize(image, (255,255))\n",
    "\n",
    "    input_image = image\n",
    "\n",
    "    input_image = tf.cast(input_image, tf.float32)\n",
    "\n",
    "    return input_image"
   ]
  },
  {
   "cell_type": "code",
   "execution_count": 177,
   "metadata": {},
   "outputs": [],
   "source": [
    "inp = load('ShanghaiTech/part_A/train_data/images/IMG_100.jpg')"
   ]
  },
  {
   "cell_type": "code",
   "execution_count": 178,
   "metadata": {},
   "outputs": [
    {
     "name": "stdout",
     "output_type": "stream",
     "text": [
      "(1, 255, 255, 64)\n"
     ]
    }
   ],
   "source": [
    "down_model = frontend_feat(64, 3)\n",
    "down_result = down_model(tf.expand_dims(inp, 0))\n",
    "print (down_result.shape)"
   ]
  },
  {
   "cell_type": "code",
   "execution_count": 179,
   "metadata": {},
   "outputs": [
    {
     "name": "stdout",
     "output_type": "stream",
     "text": [
      "(1, 255, 255, 64)\n"
     ]
    }
   ],
   "source": [
    "up_model = backend_feat(64,3)\n",
    "up_result = up_model(down_result)\n",
    "print(up_result.shape)"
   ]
  },
  {
   "cell_type": "code",
   "execution_count": 181,
   "metadata": {},
   "outputs": [
    {
     "name": "stdout",
     "output_type": "stream",
     "text": [
      "28148.678\n"
     ]
    }
   ],
   "source": [
    "generator = create_model()\n",
    "\n",
    "gen_output = generator(tf.expand_dims(inp, 0), training=False)\n",
    "print(np.sum(gen_output))"
   ]
  },
  {
   "cell_type": "code",
   "execution_count": 103,
   "metadata": {},
   "outputs": [
    {
     "name": "stdout",
     "output_type": "stream",
     "text": [
      "Model: \"model_4\"\n",
      "__________________________________________________________________________________________________\n",
      "Layer (type)                    Output Shape         Param #     Connected to                     \n",
      "==================================================================================================\n",
      "input_6 (InputLayer)            [(None, None, None,  0                                            \n",
      "__________________________________________________________________________________________________\n",
      "sequential_117 (Sequential)     (None, None, None, 6 1728        input_6[0][0]                    \n",
      "__________________________________________________________________________________________________\n",
      "sequential_118 (Sequential)     (None, None, None, 6 37120       sequential_117[0][0]             \n",
      "__________________________________________________________________________________________________\n",
      "sequential_119 (Sequential)     (None, None, None, 6 0           sequential_118[0][0]             \n",
      "__________________________________________________________________________________________________\n",
      "sequential_120 (Sequential)     (None, None, None, 1 74240       sequential_119[0][0]             \n",
      "__________________________________________________________________________________________________\n",
      "sequential_121 (Sequential)     (None, None, None, 1 147968      sequential_120[0][0]             \n",
      "__________________________________________________________________________________________________\n",
      "sequential_122 (Sequential)     (None, None, None, 1 0           sequential_121[0][0]             \n",
      "__________________________________________________________________________________________________\n",
      "sequential_123 (Sequential)     (None, None, None, 2 295936      sequential_122[0][0]             \n",
      "__________________________________________________________________________________________________\n",
      "sequential_124 (Sequential)     (None, None, None, 2 590848      sequential_123[0][0]             \n",
      "__________________________________________________________________________________________________\n",
      "sequential_125 (Sequential)     (None, None, None, 2 590848      sequential_124[0][0]             \n",
      "__________________________________________________________________________________________________\n",
      "sequential_126 (Sequential)     (None, None, None, 2 0           sequential_125[0][0]             \n",
      "__________________________________________________________________________________________________\n",
      "sequential_127 (Sequential)     (None, None, None, 5 1181696     sequential_126[0][0]             \n",
      "__________________________________________________________________________________________________\n",
      "sequential_128 (Sequential)     (None, None, None, 5 2361344     sequential_127[0][0]             \n",
      "__________________________________________________________________________________________________\n",
      "sequential_129 (Sequential)     (None, None, None, 5 2361344     sequential_128[0][0]             \n",
      "__________________________________________________________________________________________________\n",
      "sequential_130 (Sequential)     (None, None, None, 5 2361344     sequential_129[0][0]             \n",
      "__________________________________________________________________________________________________\n",
      "concatenate_5 (Concatenate)     multiple             0           sequential_130[0][0]             \n",
      "                                                                 sequential_128[0][0]             \n",
      "                                                                 sequential_131[0][0]             \n",
      "                                                                 sequential_127[0][0]             \n",
      "                                                                 sequential_132[0][0]             \n",
      "                                                                 sequential_126[0][0]             \n",
      "                                                                 sequential_133[0][0]             \n",
      "                                                                 sequential_125[0][0]             \n",
      "                                                                 sequential_134[0][0]             \n",
      "                                                                 sequential_124[0][0]             \n",
      "                                                                 sequential_135[0][0]             \n",
      "                                                                 sequential_123[0][0]             \n",
      "__________________________________________________________________________________________________\n",
      "sequential_131 (Sequential)     (None, None, None, 5 4720640     concatenate_5[0][0]              \n",
      "__________________________________________________________________________________________________\n",
      "sequential_132 (Sequential)     (None, None, None, 5 4720640     concatenate_5[1][0]              \n",
      "__________________________________________________________________________________________________\n",
      "sequential_133 (Sequential)     (None, None, None, 2 1770496     concatenate_5[2][0]              \n",
      "__________________________________________________________________________________________________\n",
      "sequential_134 (Sequential)     (None, None, None, 1 590336      concatenate_5[3][0]              \n",
      "__________________________________________________________________________________________________\n",
      "sequential_135 (Sequential)     (None, None, None, 6 221440      concatenate_5[4][0]              \n",
      "__________________________________________________________________________________________________\n",
      "dense_3 (Dense)                 (None, None, None, 1 321         concatenate_5[5][0]              \n",
      "==================================================================================================\n",
      "Total params: 22,028,289\n",
      "Trainable params: 22,019,073\n",
      "Non-trainable params: 9,216\n",
      "__________________________________________________________________________________________________\n"
     ]
    }
   ],
   "source": [
    "generator.summary()"
   ]
  },
  {
   "cell_type": "code",
   "execution_count": null,
   "metadata": {},
   "outputs": [],
   "source": []
  }
 ],
 "metadata": {
  "kernelspec": {
   "display_name": "Python 3",
   "language": "python",
   "name": "python3"
  },
  "language_info": {
   "codemirror_mode": {
    "name": "ipython",
    "version": 3
   },
   "file_extension": ".py",
   "mimetype": "text/x-python",
   "name": "python",
   "nbconvert_exporter": "python",
   "pygments_lexer": "ipython3",
   "version": "3.6.8"
  }
 },
 "nbformat": 4,
 "nbformat_minor": 2
}
